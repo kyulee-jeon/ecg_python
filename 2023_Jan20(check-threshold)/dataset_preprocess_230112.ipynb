{
 "cells": [
  {
   "cell_type": "code",
   "execution_count": 1,
   "id": "311fba8e-afba-4eaf-a2a8-62e4eda567f0",
   "metadata": {},
   "outputs": [],
   "source": [
    "#########################################################\n",
    "# Imports modules\n",
    "#########################################################\n",
    "\n",
    "import os\n",
    "import array\n",
    "import argparse\n",
    "import base64\n",
    "import csv\n",
    "import sys\n",
    "import numpy as np\n",
    "import pandas as pd\n",
    "import tensorflow as tf\n",
    "from ast import literal_eval\n",
    "from tqdm import tqdm\n",
    "import matplotlib.pyplot as plt"
   ]
  },
  {
   "cell_type": "code",
   "execution_count": 2,
   "id": "f84f821e-b81b-415c-9c37-f70899bac064",
   "metadata": {},
   "outputs": [],
   "source": [
    "my_path = os.getcwd()\n",
    "my_dir = '/home/ubuntu/dr-you-ecg-20220420_mount/STEMI_JKL/221028_STEMI/'"
   ]
  },
  {
   "cell_type": "code",
   "execution_count": 3,
   "id": "e1410f54-bde9-4da9-9605-d0accd2be4e6",
   "metadata": {},
   "outputs": [
    {
     "data": {
      "text/plain": [
       "('10000014_20200602_0936.csv', '9999994_20200611_1018.csv')"
      ]
     },
     "execution_count": 3,
     "metadata": {},
     "output_type": "execute_result"
    }
   ],
   "source": [
    "## You have to set dir where decoded data exist\n",
    "x_folder =  '/home/ubuntu/dr-you-ecg-20220420_mount/220927_SevMUSE_EKG_waveform'\n",
    "x_data = os.listdir(x_folder)\n",
    "x_data.sort()\n",
    "\n",
    "x_data[0], x_data[-1]"
   ]
  },
  {
   "cell_type": "code",
   "execution_count": 4,
   "id": "de428494-c107-463a-a079-3b9932fed558",
   "metadata": {},
   "outputs": [
    {
     "data": {
      "text/plain": [
       "3761137"
      ]
     },
     "execution_count": 4,
     "metadata": {},
     "output_type": "execute_result"
    }
   ],
   "source": [
    "len(x_data)"
   ]
  },
  {
   "cell_type": "code",
   "execution_count": 5,
   "id": "f094b9ad-574f-4cd8-bf29-aaf3708a139e",
   "metadata": {},
   "outputs": [],
   "source": [
    "My_dir = '/home/ubuntu/dr-you-ecg-20220420_mount/STEMI_JKL/2301_STEMI/'"
   ]
  },
  {
   "cell_type": "markdown",
   "id": "3ffb7bea-133a-4842-b811-0e9d3d54c0b3",
   "metadata": {},
   "source": [
    "---"
   ]
  },
  {
   "cell_type": "markdown",
   "id": "c8c891af-fc6b-4107-a12f-4d4a6c327e0c",
   "metadata": {},
   "source": [
    "# 0. Internal Set (updated KOMATE_v2)\n",
    "- 1,319"
   ]
  },
  {
   "cell_type": "code",
   "execution_count": 6,
   "id": "219c3de3-304c-441a-ba8f-5ccfcd65b224",
   "metadata": {},
   "outputs": [
    {
     "data": {
      "text/plain": [
       "(1318, 7)"
      ]
     },
     "execution_count": 6,
     "metadata": {},
     "output_type": "execute_result"
    }
   ],
   "source": [
    "df_test = pd.read_csv('/home/ubuntu/Kyulee/ECG_2301/df_2020_v3.csv')\n",
    "df_test.shape"
   ]
  },
  {
   "cell_type": "markdown",
   "id": "d549aed0-9c44-4939-8225-8c2816f94648",
   "metadata": {},
   "source": [
    "### (1) x_dataset\n",
    "- check 500 Hz\n",
    "- ECG lead 12 to 8"
   ]
  },
  {
   "cell_type": "code",
   "execution_count": 11,
   "id": "9471dda1-9de9-4dc6-ba98-2e577662068b",
   "metadata": {},
   "outputs": [],
   "source": [
    "# Series → list\n",
    "x_list = df_test['ecg_id'].values.tolist()\n",
    "y_list = df_test['STEMI'].values.tolist()"
   ]
  },
  {
   "cell_type": "code",
   "execution_count": 12,
   "id": "bd497ed5-e520-4a59-b280-7468f84d89ba",
   "metadata": {},
   "outputs": [],
   "source": [
    "# List → numpy array\n",
    "x_npy = np.array(x_list)\n",
    "y_npy = np.array(y_list)"
   ]
  },
  {
   "cell_type": "code",
   "execution_count": 13,
   "id": "5a4104ee-6062-4658-a127-0616b58a658e",
   "metadata": {},
   "outputs": [
    {
     "data": {
      "text/plain": [
       "((1318,), (1318,))"
      ]
     },
     "execution_count": 13,
     "metadata": {},
     "output_type": "execute_result"
    }
   ],
   "source": [
    "x_npy.shape, y_npy.shape"
   ]
  },
  {
   "cell_type": "code",
   "execution_count": 14,
   "id": "ad1359c8-65ce-4552-8277-4acb20864417",
   "metadata": {},
   "outputs": [
    {
     "name": "stderr",
     "output_type": "stream",
     "text": [
      "100%|████████████████████████████████████████████████████████| 1318/1318 [02:18<00:00,  9.55it/s]\n"
     ]
    }
   ],
   "source": [
    "x_ecg = []\n",
    "x_dataset = []\n",
    "numList = []\n",
    "\n",
    "for i in tqdm(x_list):\n",
    "    x_dir = x_folder +'/'+ i+'.csv'\n",
    "    df_x = pd.read_csv(x_dir)\n",
    "    if len(df_x) == 5000 :\n",
    "        df_x_lead = df_x[['I', 'II', 'V1', 'V2', 'V3', 'V4', 'V5', 'V6']]\n",
    "        a = x_list.index(i)\n",
    "        numList.append(a)\n",
    "        df_x_numpy = df_x_lead.to_numpy()\n",
    "        x_dataset.append(df_x_numpy)"
   ]
  },
  {
   "cell_type": "code",
   "execution_count": 15,
   "id": "b41f5c76-7e35-44e2-9fdc-58ed5ebe413c",
   "metadata": {},
   "outputs": [
    {
     "data": {
      "text/plain": [
       "(1318, 5000, 8)"
      ]
     },
     "execution_count": 15,
     "metadata": {},
     "output_type": "execute_result"
    }
   ],
   "source": [
    "X_dataset = np.array(x_dataset)\n",
    "X_dataset.shape"
   ]
  },
  {
   "cell_type": "code",
   "execution_count": 17,
   "id": "cf7062d4-2e35-4fae-b6a6-0fd30cdbcfe1",
   "metadata": {},
   "outputs": [],
   "source": [
    "# save\n",
    "np.save(my_path+'/x_test_0114.npy',X_dataset)"
   ]
  },
  {
   "cell_type": "markdown",
   "id": "add1825f-372a-4ba3-b60b-a1d5553b50e0",
   "metadata": {},
   "source": [
    "### (2) y_dataset"
   ]
  },
  {
   "cell_type": "code",
   "execution_count": 16,
   "id": "bdfc646f-102f-48c8-a0c3-dfb65d3157b0",
   "metadata": {},
   "outputs": [
    {
     "data": {
      "text/plain": [
       "(1318,)"
      ]
     },
     "execution_count": 16,
     "metadata": {},
     "output_type": "execute_result"
    }
   ],
   "source": [
    "y_list_final = []\n",
    "\n",
    "for i in numList :\n",
    "    y_list_final.append(y_list[i])\n",
    "    \n",
    "y_npy = np.array(y_list_final)\n",
    "Y_dataset = y_npy\n",
    "Y_dataset.shape"
   ]
  },
  {
   "cell_type": "code",
   "execution_count": 18,
   "id": "760713e7-5eb0-4edb-98f0-3a7988c728fd",
   "metadata": {},
   "outputs": [],
   "source": [
    "# save\n",
    "np.save(my_path+'/y_test_0114.npy',Y_dataset)"
   ]
  },
  {
   "cell_type": "code",
   "execution_count": 20,
   "id": "10bb7e02-27c3-4e27-904d-ac6426dbdf86",
   "metadata": {},
   "outputs": [],
   "source": [
    "del df_test\n",
    "del x_list\n",
    "del y_list\n",
    "del x_npy\n",
    "del y_npy\n",
    "del X_dataset\n",
    "del Y_dataset"
   ]
  },
  {
   "cell_type": "markdown",
   "id": "f8d35d4f-dd0e-4104-a76b-9d3f519c9c80",
   "metadata": {},
   "source": [
    "# 1. CP 1st Activation\n",
    "- 137"
   ]
  },
  {
   "cell_type": "code",
   "execution_count": 6,
   "id": "fdcb78fc-a1aa-4b9f-b36a-274a72812454",
   "metadata": {},
   "outputs": [
    {
     "data": {
      "text/plain": [
       "(136, 6)"
      ]
     },
     "execution_count": 6,
     "metadata": {},
     "output_type": "execute_result"
    }
   ],
   "source": [
    "df_test = pd.read_csv(my_path+'/230120_CP1stActivation(2020).csv')\n",
    "df_test.shape"
   ]
  },
  {
   "cell_type": "markdown",
   "id": "1565ac68-37ab-4709-91fb-298d4b7d9ac0",
   "metadata": {},
   "source": [
    "### (1) x_dataset\n",
    "- check 500 Hz\n",
    "- ECG lead 12 to 8"
   ]
  },
  {
   "cell_type": "code",
   "execution_count": 7,
   "id": "ef5ca2ff-cd53-4c2c-bdb0-b92bc9b91fbb",
   "metadata": {},
   "outputs": [],
   "source": [
    "# Series → list\n",
    "x_list = df_test['ecg_id'].values.tolist()\n",
    "y_list = df_test['STEMI'].values.tolist()"
   ]
  },
  {
   "cell_type": "code",
   "execution_count": 8,
   "id": "d445f2ef-7342-4fd4-a0d3-0a425bfc6f3d",
   "metadata": {},
   "outputs": [],
   "source": [
    "# List → numpy array\n",
    "x_npy = np.array(x_list)\n",
    "y_npy = np.array(y_list)"
   ]
  },
  {
   "cell_type": "code",
   "execution_count": 9,
   "id": "ee882d75-4d86-43c7-8398-79718f875268",
   "metadata": {},
   "outputs": [
    {
     "data": {
      "text/plain": [
       "((136,), (136,))"
      ]
     },
     "execution_count": 9,
     "metadata": {},
     "output_type": "execute_result"
    }
   ],
   "source": [
    "x_npy.shape, y_npy.shape"
   ]
  },
  {
   "cell_type": "code",
   "execution_count": 10,
   "id": "f6d4f5ea-2cb2-42c5-9e63-293c59fe1f94",
   "metadata": {},
   "outputs": [
    {
     "name": "stderr",
     "output_type": "stream",
     "text": [
      "100%|█████████████████████████████████████████| 136/136 [00:11<00:00, 11.67it/s]\n"
     ]
    }
   ],
   "source": [
    "x_ecg = []\n",
    "x_dataset = []\n",
    "numList = []\n",
    "\n",
    "for i in tqdm(x_list):\n",
    "    x_dir = x_folder +'/'+ i+'.csv'\n",
    "    df_x = pd.read_csv(x_dir)\n",
    "    if len(df_x) == 5000 :\n",
    "        df_x_lead = df_x[['I', 'II', 'V1', 'V2', 'V3', 'V4', 'V5', 'V6']]\n",
    "        a = x_list.index(i)\n",
    "        numList.append(a)\n",
    "        df_x_numpy = df_x_lead.to_numpy()\n",
    "        x_dataset.append(df_x_numpy)"
   ]
  },
  {
   "cell_type": "code",
   "execution_count": 11,
   "id": "099591e1-9476-4257-8560-c4731a0d2aab",
   "metadata": {},
   "outputs": [
    {
     "data": {
      "text/plain": [
       "(136, 5000, 8)"
      ]
     },
     "execution_count": 11,
     "metadata": {},
     "output_type": "execute_result"
    }
   ],
   "source": [
    "X_dataset = np.array(x_dataset)\n",
    "X_dataset.shape"
   ]
  },
  {
   "cell_type": "code",
   "execution_count": 12,
   "id": "a378e6d6-0fc3-4030-9238-13e97ccbe1cc",
   "metadata": {},
   "outputs": [],
   "source": [
    "# save\n",
    "np.save(my_path+'/x_cp_0120.npy',X_dataset)"
   ]
  },
  {
   "cell_type": "markdown",
   "id": "1096d190-af11-4458-9340-6b45a88c92be",
   "metadata": {},
   "source": [
    "### (2) y_dataset"
   ]
  },
  {
   "cell_type": "code",
   "execution_count": 13,
   "id": "9687a177-8107-4681-ba52-16532017597a",
   "metadata": {},
   "outputs": [
    {
     "data": {
      "text/plain": [
       "(136,)"
      ]
     },
     "execution_count": 13,
     "metadata": {},
     "output_type": "execute_result"
    }
   ],
   "source": [
    "y_list_final = []\n",
    "\n",
    "for i in numList :\n",
    "    y_list_final.append(y_list[i])\n",
    "    \n",
    "y_npy = np.array(y_list_final)\n",
    "Y_dataset = y_npy\n",
    "Y_dataset.shape"
   ]
  },
  {
   "cell_type": "code",
   "execution_count": 14,
   "id": "d9646440-e708-4b74-ad0d-43ce7b4e688b",
   "metadata": {},
   "outputs": [],
   "source": [
    "# save\n",
    "np.save(my_path+'/y_cp_0120.npy',Y_dataset)"
   ]
  },
  {
   "cell_type": "code",
   "execution_count": 15,
   "id": "54451cef-9c3a-4915-ae36-6d3a562dddc2",
   "metadata": {},
   "outputs": [],
   "source": [
    "del df_test\n",
    "del x_list\n",
    "del y_list\n",
    "del x_npy\n",
    "del y_npy\n",
    "del X_dataset\n",
    "del Y_dataset"
   ]
  },
  {
   "cell_type": "markdown",
   "id": "03b96ad4-b245-4941-8906-7d0b8302c229",
   "metadata": {},
   "source": [
    "# 2. ED Troponin-T\n",
    "- 25,892"
   ]
  },
  {
   "cell_type": "code",
   "execution_count": 16,
   "id": "1b1fb067-1167-440c-a8de-48f30f82df07",
   "metadata": {},
   "outputs": [
    {
     "data": {
      "text/plain": [
       "(12683, 7)"
      ]
     },
     "execution_count": 16,
     "metadata": {},
     "output_type": "execute_result"
    }
   ],
   "source": [
    "df_test = pd.read_csv(my_path+'/230120_Troponin-T(2020).csv')\n",
    "df_test.shape"
   ]
  },
  {
   "cell_type": "markdown",
   "id": "671d2142-1e62-48f6-90e6-5d82a21e55b9",
   "metadata": {},
   "source": [
    "### (1) x_dataset\n",
    "- check 500 Hz\n",
    "- ECG lead 12 to 8"
   ]
  },
  {
   "cell_type": "code",
   "execution_count": 17,
   "id": "89231b4d-ea60-4223-a189-1e9c715d2740",
   "metadata": {},
   "outputs": [],
   "source": [
    "# Series → list\n",
    "x_list = df_test['ecg_id'].values.tolist()\n",
    "y_list = df_test['STEMI'].values.tolist()"
   ]
  },
  {
   "cell_type": "code",
   "execution_count": 18,
   "id": "715201db-d296-492b-90f5-da1d2facd8b4",
   "metadata": {},
   "outputs": [],
   "source": [
    "# List → numpy array\n",
    "x_npy = np.array(x_list)\n",
    "y_npy = np.array(y_list)"
   ]
  },
  {
   "cell_type": "code",
   "execution_count": 19,
   "id": "677a4eaf-d935-4dd6-a832-e4eb91afb08e",
   "metadata": {},
   "outputs": [
    {
     "data": {
      "text/plain": [
       "((12683,), (12683,))"
      ]
     },
     "execution_count": 19,
     "metadata": {},
     "output_type": "execute_result"
    }
   ],
   "source": [
    "x_npy.shape, y_npy.shape"
   ]
  },
  {
   "cell_type": "code",
   "execution_count": 20,
   "id": "a15abe38-03a3-4c34-b46b-6698807b0136",
   "metadata": {},
   "outputs": [
    {
     "name": "stderr",
     "output_type": "stream",
     "text": [
      "100%|█████████████████████████████████████| 12683/12683 [18:56<00:00, 11.16it/s]\n"
     ]
    }
   ],
   "source": [
    "x_ecg = []\n",
    "x_dataset = []\n",
    "numList = []\n",
    "\n",
    "for i in tqdm(x_list):\n",
    "    x_dir = x_folder +'/'+ i+'.csv'\n",
    "    df_x = pd.read_csv(x_dir)\n",
    "    if len(df_x) == 5000 :\n",
    "        df_x_lead = df_x[['I', 'II', 'V1', 'V2', 'V3', 'V4', 'V5', 'V6']]\n",
    "        a = x_list.index(i)\n",
    "        numList.append(a)\n",
    "        df_x_numpy = df_x_lead.to_numpy()\n",
    "        x_dataset.append(df_x_numpy)"
   ]
  },
  {
   "cell_type": "code",
   "execution_count": 21,
   "id": "4083ae44-15fc-43bd-8803-ee2f254dd168",
   "metadata": {},
   "outputs": [
    {
     "data": {
      "text/plain": [
       "(12683, 5000, 8)"
      ]
     },
     "execution_count": 21,
     "metadata": {},
     "output_type": "execute_result"
    }
   ],
   "source": [
    "X_dataset = np.array(x_dataset)\n",
    "X_dataset.shape"
   ]
  },
  {
   "cell_type": "code",
   "execution_count": 23,
   "id": "d3329379-a666-4ec8-9ac9-1a0e1e9bd67a",
   "metadata": {},
   "outputs": [],
   "source": [
    "# save\n",
    "np.save(my_path+'/x_trop_0120.npy',X_dataset)"
   ]
  },
  {
   "cell_type": "markdown",
   "id": "0f54a7d3-ee83-474b-bed0-5deb3939438f",
   "metadata": {},
   "source": [
    "### (2) y_dataset"
   ]
  },
  {
   "cell_type": "code",
   "execution_count": 24,
   "id": "56b9c3e7-3bc8-4175-a447-9bb521ce66e0",
   "metadata": {},
   "outputs": [
    {
     "data": {
      "text/plain": [
       "(12683,)"
      ]
     },
     "execution_count": 24,
     "metadata": {},
     "output_type": "execute_result"
    }
   ],
   "source": [
    "y_list_final = []\n",
    "\n",
    "for i in numList :\n",
    "    y_list_final.append(y_list[i])\n",
    "    \n",
    "y_npy = np.array(y_list_final)\n",
    "Y_dataset = y_npy\n",
    "Y_dataset.shape"
   ]
  },
  {
   "cell_type": "code",
   "execution_count": 25,
   "id": "f6551401-df44-4adc-8223-36202e1ea250",
   "metadata": {},
   "outputs": [],
   "source": [
    "# save\n",
    "np.save(my_path+'/y_trop_0120.npy',Y_dataset)"
   ]
  },
  {
   "cell_type": "code",
   "execution_count": 26,
   "id": "a817fe52-28da-4d9d-964c-255ac308b150",
   "metadata": {
    "tags": []
   },
   "outputs": [],
   "source": [
    "del df_test\n",
    "del x_list\n",
    "del y_list\n",
    "del x_npy\n",
    "del y_npy\n",
    "del X_dataset\n",
    "del Y_dataset"
   ]
  },
  {
   "cell_type": "markdown",
   "id": "25e4ca9f-5531-4677-9093-23a1c0b1686c",
   "metadata": {},
   "source": [
    "# 3. ED chestpain\n",
    "- 3,144"
   ]
  },
  {
   "cell_type": "code",
   "execution_count": 47,
   "id": "d4c06455-23ad-4fa2-a070-33f0d2c8cb2b",
   "metadata": {},
   "outputs": [
    {
     "data": {
      "text/plain": [
       "(2765, 6)"
      ]
     },
     "execution_count": 47,
     "metadata": {},
     "output_type": "execute_result"
    }
   ],
   "source": [
    "df_test = pd.read_csv(my_path+'/230113_chestpain(2020).csv')\n",
    "df_test.shape"
   ]
  },
  {
   "cell_type": "markdown",
   "id": "372a4561-0ae1-4f28-91a4-67a302acf970",
   "metadata": {},
   "source": [
    "### (1) x_dataset\n",
    "- check 500 Hz\n",
    "- ECG lead 12 to 8"
   ]
  },
  {
   "cell_type": "code",
   "execution_count": 48,
   "id": "fb0ccd05-0b85-4bb5-84b3-b98152e90b37",
   "metadata": {},
   "outputs": [],
   "source": [
    "# Series → list\n",
    "x_list = df_test['ecg_id'].values.tolist()\n",
    "y_list = df_test['STEMI'].values.tolist()"
   ]
  },
  {
   "cell_type": "code",
   "execution_count": 49,
   "id": "6a03485b-0f28-49ef-8ce1-03136844cfa0",
   "metadata": {},
   "outputs": [],
   "source": [
    "# List → numpy array\n",
    "x_npy = np.array(x_list)\n",
    "y_npy = np.array(y_list)"
   ]
  },
  {
   "cell_type": "code",
   "execution_count": 50,
   "id": "6676470b-e5c5-4501-b90e-a4e85b219bba",
   "metadata": {},
   "outputs": [
    {
     "data": {
      "text/plain": [
       "((2765,), (2765,))"
      ]
     },
     "execution_count": 50,
     "metadata": {},
     "output_type": "execute_result"
    }
   ],
   "source": [
    "x_npy.shape, y_npy.shape"
   ]
  },
  {
   "cell_type": "code",
   "execution_count": 51,
   "id": "6ad323eb-30da-4b72-a967-315e87a0d882",
   "metadata": {},
   "outputs": [
    {
     "name": "stderr",
     "output_type": "stream",
     "text": [
      "100%|████████████████████████████████████████████████████████| 2765/2765 [00:56<00:00, 49.22it/s]\n"
     ]
    }
   ],
   "source": [
    "x_ecg = []\n",
    "x_dataset = []\n",
    "numList = []\n",
    "\n",
    "for i in tqdm(x_list):\n",
    "    x_dir = x_folder +'/'+ i+'.csv'\n",
    "    df_x = pd.read_csv(x_dir)\n",
    "    if len(df_x) == 5000 :\n",
    "        df_x_lead = df_x[['I', 'II', 'V1', 'V2', 'V3', 'V4', 'V5', 'V6']]\n",
    "        a = x_list.index(i)\n",
    "        numList.append(a)\n",
    "        df_x_numpy = df_x_lead.to_numpy()\n",
    "        x_dataset.append(df_x_numpy)"
   ]
  },
  {
   "cell_type": "code",
   "execution_count": 52,
   "id": "69a8719f-c1f7-4b2e-bca4-df7b8f6fdddb",
   "metadata": {},
   "outputs": [
    {
     "data": {
      "text/plain": [
       "(2765, 5000, 8)"
      ]
     },
     "execution_count": 52,
     "metadata": {},
     "output_type": "execute_result"
    }
   ],
   "source": [
    "X_dataset = np.array(x_dataset)\n",
    "X_dataset.shape"
   ]
  },
  {
   "cell_type": "code",
   "execution_count": 53,
   "id": "cae56b41-4e6e-4133-88d4-84ef53e1de76",
   "metadata": {},
   "outputs": [],
   "source": [
    "# save\n",
    "np.save(my_path+'/x_pain_0113.npy',X_dataset)"
   ]
  },
  {
   "cell_type": "markdown",
   "id": "6269e5f8-350d-4082-9b36-6e12979eb2c2",
   "metadata": {},
   "source": [
    "### (2) y_dataset"
   ]
  },
  {
   "cell_type": "code",
   "execution_count": 54,
   "id": "db654b69-6c41-4308-b08c-437fee3bfec8",
   "metadata": {},
   "outputs": [
    {
     "data": {
      "text/plain": [
       "(2765,)"
      ]
     },
     "execution_count": 54,
     "metadata": {},
     "output_type": "execute_result"
    }
   ],
   "source": [
    "y_list_final = []\n",
    "\n",
    "for i in numList :\n",
    "    y_list_final.append(y_list[i])\n",
    "    \n",
    "y_npy = np.array(y_list_final)\n",
    "Y_dataset = y_npy\n",
    "Y_dataset.shape"
   ]
  },
  {
   "cell_type": "code",
   "execution_count": 55,
   "id": "edc9b1f2-30c9-4fb5-a6e3-4f3e21221dec",
   "metadata": {},
   "outputs": [],
   "source": [
    "# save\n",
    "np.save(my_path+'/y_pain_0113.npy',Y_dataset)"
   ]
  },
  {
   "cell_type": "code",
   "execution_count": 56,
   "id": "b40fe901-f21d-4614-8a80-91172e23e392",
   "metadata": {},
   "outputs": [],
   "source": [
    "del df_test\n",
    "del x_list\n",
    "del y_list\n",
    "del x_npy\n",
    "del y_npy\n",
    "del X_dataset\n",
    "del Y_dataset"
   ]
  },
  {
   "cell_type": "code",
   "execution_count": 7,
   "id": "0819b34c-950a-43aa-aaa6-a44288a6ec23",
   "metadata": {},
   "outputs": [
    {
     "data": {
      "text/html": [
       "<div>\n",
       "<style scoped>\n",
       "    .dataframe tbody tr th:only-of-type {\n",
       "        vertical-align: middle;\n",
       "    }\n",
       "\n",
       "    .dataframe tbody tr th {\n",
       "        vertical-align: top;\n",
       "    }\n",
       "\n",
       "    .dataframe thead th {\n",
       "        text-align: right;\n",
       "    }\n",
       "</style>\n",
       "<table border=\"1\" class=\"dataframe\">\n",
       "  <thead>\n",
       "    <tr style=\"text-align: right;\">\n",
       "      <th></th>\n",
       "      <th>AlsUnitNo</th>\n",
       "      <th>CHART_NO</th>\n",
       "      <th>trop_datetime</th>\n",
       "      <th>acq_datetime</th>\n",
       "      <th>ecg_id</th>\n",
       "      <th>STEMI</th>\n",
       "    </tr>\n",
       "  </thead>\n",
       "  <tbody>\n",
       "    <tr>\n",
       "      <th>0</th>\n",
       "      <td>3474309.0</td>\n",
       "      <td>5121505</td>\n",
       "      <td>2020-01-03 14:01:00</td>\n",
       "      <td>2020-01-03 12:44:11</td>\n",
       "      <td>3474309_20200103_1244</td>\n",
       "      <td>1</td>\n",
       "    </tr>\n",
       "    <tr>\n",
       "      <th>1</th>\n",
       "      <td>4844952.0</td>\n",
       "      <td>3312853</td>\n",
       "      <td>2020-01-04 16:46:00</td>\n",
       "      <td>2020-01-04 15:44:15</td>\n",
       "      <td>4844952_20200104_1544</td>\n",
       "      <td>1</td>\n",
       "    </tr>\n",
       "  </tbody>\n",
       "</table>\n",
       "</div>"
      ],
      "text/plain": [
       "   AlsUnitNo CHART_NO        trop_datetime         acq_datetime  \\\n",
       "0  3474309.0  5121505  2020-01-03 14:01:00  2020-01-03 12:44:11   \n",
       "1  4844952.0  3312853  2020-01-04 16:46:00  2020-01-04 15:44:15   \n",
       "\n",
       "                  ecg_id  STEMI  \n",
       "0  3474309_20200103_1244      1  \n",
       "1  4844952_20200104_1544      1  "
      ]
     },
     "execution_count": 7,
     "metadata": {},
     "output_type": "execute_result"
    }
   ],
   "source": [
    "dftrop.head(2)"
   ]
  },
  {
   "cell_type": "code",
   "execution_count": 8,
   "id": "36f11e45-4b93-45e4-a422-17042f40e541",
   "metadata": {},
   "outputs": [
    {
     "data": {
      "text/html": [
       "<div>\n",
       "<style scoped>\n",
       "    .dataframe tbody tr th:only-of-type {\n",
       "        vertical-align: middle;\n",
       "    }\n",
       "\n",
       "    .dataframe tbody tr th {\n",
       "        vertical-align: top;\n",
       "    }\n",
       "\n",
       "    .dataframe thead th {\n",
       "        text-align: right;\n",
       "    }\n",
       "</style>\n",
       "<table border=\"1\" class=\"dataframe\">\n",
       "  <thead>\n",
       "    <tr style=\"text-align: right;\">\n",
       "      <th></th>\n",
       "      <th>AlsUnitNo</th>\n",
       "      <th>date</th>\n",
       "      <th>SH_datetime</th>\n",
       "      <th>ecg_datetime</th>\n",
       "      <th>ecg_id</th>\n",
       "      <th>STEMI</th>\n",
       "    </tr>\n",
       "  </thead>\n",
       "  <tbody>\n",
       "    <tr>\n",
       "      <th>0</th>\n",
       "      <td>4264141</td>\n",
       "      <td>2020-01-13 00:00:00</td>\n",
       "      <td>2020-01-13 04:07:00</td>\n",
       "      <td>2020-01-13 04:07:00</td>\n",
       "      <td>4264141_20200113_0407</td>\n",
       "      <td>1</td>\n",
       "    </tr>\n",
       "    <tr>\n",
       "      <th>1</th>\n",
       "      <td>2914490</td>\n",
       "      <td>2020-01-20 00:00:00</td>\n",
       "      <td>2020-01-20 11:14:00</td>\n",
       "      <td>2020-01-20 11:14:00</td>\n",
       "      <td>2914490_20200120_1114</td>\n",
       "      <td>0</td>\n",
       "    </tr>\n",
       "  </tbody>\n",
       "</table>\n",
       "</div>"
      ],
      "text/plain": [
       "   AlsUnitNo                 date          SH_datetime         ecg_datetime  \\\n",
       "0    4264141  2020-01-13 00:00:00  2020-01-13 04:07:00  2020-01-13 04:07:00   \n",
       "1    2914490  2020-01-20 00:00:00  2020-01-20 11:14:00  2020-01-20 11:14:00   \n",
       "\n",
       "                  ecg_id  STEMI  \n",
       "0  4264141_20200113_0407      1  \n",
       "1  2914490_20200120_1114      0  "
      ]
     },
     "execution_count": 8,
     "metadata": {},
     "output_type": "execute_result"
    }
   ],
   "source": [
    "dfcp.head(2)"
   ]
  },
  {
   "cell_type": "code",
   "execution_count": 9,
   "id": "e9ae431b-cde4-47f7-9f96-c77c84bf34f6",
   "metadata": {
    "collapsed": true,
    "jupyter": {
     "outputs_hidden": true
    },
    "tags": []
   },
   "outputs": [
    {
     "data": {
      "text/html": [
       "<div>\n",
       "<style scoped>\n",
       "    .dataframe tbody tr th:only-of-type {\n",
       "        vertical-align: middle;\n",
       "    }\n",
       "\n",
       "    .dataframe tbody tr th {\n",
       "        vertical-align: top;\n",
       "    }\n",
       "\n",
       "    .dataframe thead th {\n",
       "        text-align: right;\n",
       "    }\n",
       "</style>\n",
       "<table border=\"1\" class=\"dataframe\">\n",
       "  <thead>\n",
       "    <tr style=\"text-align: right;\">\n",
       "      <th></th>\n",
       "      <th>AlsUnitNo_x</th>\n",
       "      <th>acq_datetime</th>\n",
       "      <th>ecg_id</th>\n",
       "      <th>STEMI_x</th>\n",
       "      <th>AlsUnitNo_y</th>\n",
       "      <th>ecg_datetime</th>\n",
       "      <th>STEMI_y</th>\n",
       "    </tr>\n",
       "  </thead>\n",
       "  <tbody>\n",
       "    <tr>\n",
       "      <th>0</th>\n",
       "      <td>3474309.0</td>\n",
       "      <td>2020-01-03 12:44:11</td>\n",
       "      <td>3474309_20200103_1244</td>\n",
       "      <td>1</td>\n",
       "      <td>3474309</td>\n",
       "      <td>2020-01-03 12:44:00</td>\n",
       "      <td>1</td>\n",
       "    </tr>\n",
       "    <tr>\n",
       "      <th>1</th>\n",
       "      <td>4844952.0</td>\n",
       "      <td>2020-01-04 15:44:15</td>\n",
       "      <td>4844952_20200104_1544</td>\n",
       "      <td>1</td>\n",
       "      <td>4844952</td>\n",
       "      <td>2020-01-04 15:44:00</td>\n",
       "      <td>1</td>\n",
       "    </tr>\n",
       "    <tr>\n",
       "      <th>2</th>\n",
       "      <td>4236762.0</td>\n",
       "      <td>2020-02-18 13:29:43</td>\n",
       "      <td>4236762_20200218_1329</td>\n",
       "      <td>1</td>\n",
       "      <td>4236762</td>\n",
       "      <td>2020-02-18 13:29:00</td>\n",
       "      <td>1</td>\n",
       "    </tr>\n",
       "    <tr>\n",
       "      <th>3</th>\n",
       "      <td>1874379.0</td>\n",
       "      <td>2020-02-23 20:38:58</td>\n",
       "      <td>1874379_20200223_2038</td>\n",
       "      <td>1</td>\n",
       "      <td>1874379</td>\n",
       "      <td>2020-02-23 20:38:00</td>\n",
       "      <td>1</td>\n",
       "    </tr>\n",
       "    <tr>\n",
       "      <th>4</th>\n",
       "      <td>4593593.0</td>\n",
       "      <td>2020-02-25 00:36:43</td>\n",
       "      <td>4593593_20200225_0036</td>\n",
       "      <td>1</td>\n",
       "      <td>4593593</td>\n",
       "      <td>2020-02-25 00:36:00</td>\n",
       "      <td>1</td>\n",
       "    </tr>\n",
       "    <tr>\n",
       "      <th>5</th>\n",
       "      <td>2556166.0</td>\n",
       "      <td>2020-04-22 07:21:53</td>\n",
       "      <td>2556166_20200422_0721</td>\n",
       "      <td>1</td>\n",
       "      <td>2556166</td>\n",
       "      <td>2020-04-22 07:21:00</td>\n",
       "      <td>1</td>\n",
       "    </tr>\n",
       "    <tr>\n",
       "      <th>6</th>\n",
       "      <td>4454276.0</td>\n",
       "      <td>2020-05-08 22:31:57</td>\n",
       "      <td>4454276_20200508_2231</td>\n",
       "      <td>1</td>\n",
       "      <td>4454276</td>\n",
       "      <td>2020-05-08 22:31:00</td>\n",
       "      <td>1</td>\n",
       "    </tr>\n",
       "    <tr>\n",
       "      <th>7</th>\n",
       "      <td>3607569.0</td>\n",
       "      <td>2020-05-19 15:29:34</td>\n",
       "      <td>3607569_20200519_1529</td>\n",
       "      <td>1</td>\n",
       "      <td>3607569</td>\n",
       "      <td>2020-05-19 15:29:00</td>\n",
       "      <td>1</td>\n",
       "    </tr>\n",
       "    <tr>\n",
       "      <th>8</th>\n",
       "      <td>3066059.0</td>\n",
       "      <td>2020-06-18 21:24:30</td>\n",
       "      <td>3066059_20200618_2124</td>\n",
       "      <td>1</td>\n",
       "      <td>3066059</td>\n",
       "      <td>2020-06-18 21:24:00</td>\n",
       "      <td>1</td>\n",
       "    </tr>\n",
       "    <tr>\n",
       "      <th>9</th>\n",
       "      <td>10087882.0</td>\n",
       "      <td>2020-09-05 21:43:50</td>\n",
       "      <td>10087882_20200905_2143</td>\n",
       "      <td>1</td>\n",
       "      <td>10087882</td>\n",
       "      <td>2020-09-05 21:43:00</td>\n",
       "      <td>1</td>\n",
       "    </tr>\n",
       "    <tr>\n",
       "      <th>10</th>\n",
       "      <td>2336368.0</td>\n",
       "      <td>2020-09-14 10:29:38</td>\n",
       "      <td>2336368_20200914_1029</td>\n",
       "      <td>1</td>\n",
       "      <td>2336368</td>\n",
       "      <td>2020-09-14 10:29:00</td>\n",
       "      <td>1</td>\n",
       "    </tr>\n",
       "    <tr>\n",
       "      <th>11</th>\n",
       "      <td>4102009.0</td>\n",
       "      <td>2020-10-05 07:57:24</td>\n",
       "      <td>4102009_20201005_0757</td>\n",
       "      <td>1</td>\n",
       "      <td>4102009</td>\n",
       "      <td>2020-10-05 07:57:00</td>\n",
       "      <td>1</td>\n",
       "    </tr>\n",
       "    <tr>\n",
       "      <th>12</th>\n",
       "      <td>4563360.0</td>\n",
       "      <td>2020-10-14 09:18:32</td>\n",
       "      <td>4563360_20201014_0918</td>\n",
       "      <td>1</td>\n",
       "      <td>4563360</td>\n",
       "      <td>2020-10-14 09:18:00</td>\n",
       "      <td>1</td>\n",
       "    </tr>\n",
       "    <tr>\n",
       "      <th>13</th>\n",
       "      <td>4936305.0</td>\n",
       "      <td>2020-10-15 14:33:26</td>\n",
       "      <td>4936305_20201015_1433</td>\n",
       "      <td>1</td>\n",
       "      <td>4936305</td>\n",
       "      <td>2020-10-15 14:33:00</td>\n",
       "      <td>1</td>\n",
       "    </tr>\n",
       "    <tr>\n",
       "      <th>14</th>\n",
       "      <td>2420643.0</td>\n",
       "      <td>2020-10-16 02:14:58</td>\n",
       "      <td>2420643_20201016_0214</td>\n",
       "      <td>1</td>\n",
       "      <td>2420643</td>\n",
       "      <td>2020-10-16 02:14:00</td>\n",
       "      <td>1</td>\n",
       "    </tr>\n",
       "    <tr>\n",
       "      <th>15</th>\n",
       "      <td>10133714.0</td>\n",
       "      <td>2020-10-30 13:38:08</td>\n",
       "      <td>10133714_20201030_1338</td>\n",
       "      <td>1</td>\n",
       "      <td>10133714</td>\n",
       "      <td>2020-10-30 13:38:00</td>\n",
       "      <td>1</td>\n",
       "    </tr>\n",
       "    <tr>\n",
       "      <th>16</th>\n",
       "      <td>4522861.0</td>\n",
       "      <td>2020-11-09 11:17:53</td>\n",
       "      <td>4522861_20201109_1117</td>\n",
       "      <td>1</td>\n",
       "      <td>4522861</td>\n",
       "      <td>2020-11-09 11:17:00</td>\n",
       "      <td>1</td>\n",
       "    </tr>\n",
       "    <tr>\n",
       "      <th>17</th>\n",
       "      <td>2236970.0</td>\n",
       "      <td>2020-11-25 19:27:49</td>\n",
       "      <td>2236970_20201125_1927</td>\n",
       "      <td>1</td>\n",
       "      <td>2236970</td>\n",
       "      <td>2020-11-25 19:27:00</td>\n",
       "      <td>1</td>\n",
       "    </tr>\n",
       "    <tr>\n",
       "      <th>18</th>\n",
       "      <td>10159060.0</td>\n",
       "      <td>2020-11-29 04:03:18</td>\n",
       "      <td>10159060_20201129_0403</td>\n",
       "      <td>1</td>\n",
       "      <td>10159060</td>\n",
       "      <td>2020-11-29 04:03:00</td>\n",
       "      <td>1</td>\n",
       "    </tr>\n",
       "    <tr>\n",
       "      <th>19</th>\n",
       "      <td>535192.0</td>\n",
       "      <td>2020-12-22 17:58:57</td>\n",
       "      <td>535192_20201222_1758</td>\n",
       "      <td>1</td>\n",
       "      <td>535192</td>\n",
       "      <td>2020-12-22 17:58:00</td>\n",
       "      <td>1</td>\n",
       "    </tr>\n",
       "    <tr>\n",
       "      <th>20</th>\n",
       "      <td>3236502.0</td>\n",
       "      <td>2020-12-26 21:57:46</td>\n",
       "      <td>3236502_20201226_2157</td>\n",
       "      <td>1</td>\n",
       "      <td>3236502</td>\n",
       "      <td>2020-12-26 21:57:00</td>\n",
       "      <td>1</td>\n",
       "    </tr>\n",
       "    <tr>\n",
       "      <th>21</th>\n",
       "      <td>4264141.0</td>\n",
       "      <td>2020-01-13 04:07:00</td>\n",
       "      <td>4264141_20200113_0407</td>\n",
       "      <td>0</td>\n",
       "      <td>4264141</td>\n",
       "      <td>2020-01-13 04:07:00</td>\n",
       "      <td>1</td>\n",
       "    </tr>\n",
       "    <tr>\n",
       "      <th>22</th>\n",
       "      <td>2914490.0</td>\n",
       "      <td>2020-01-20 11:14:00</td>\n",
       "      <td>2914490_20200120_1114</td>\n",
       "      <td>0</td>\n",
       "      <td>2914490</td>\n",
       "      <td>2020-01-20 11:14:00</td>\n",
       "      <td>0</td>\n",
       "    </tr>\n",
       "    <tr>\n",
       "      <th>23</th>\n",
       "      <td>2174976.0</td>\n",
       "      <td>2020-01-23 03:11:00</td>\n",
       "      <td>2174976_20200123_0311</td>\n",
       "      <td>0</td>\n",
       "      <td>2174976</td>\n",
       "      <td>2020-01-23 03:11:00</td>\n",
       "      <td>0</td>\n",
       "    </tr>\n",
       "    <tr>\n",
       "      <th>24</th>\n",
       "      <td>3543437.0</td>\n",
       "      <td>2020-01-30 16:36:00</td>\n",
       "      <td>3543437_20200130_1636</td>\n",
       "      <td>0</td>\n",
       "      <td>3543437</td>\n",
       "      <td>2020-01-30 16:36:00</td>\n",
       "      <td>0</td>\n",
       "    </tr>\n",
       "    <tr>\n",
       "      <th>25</th>\n",
       "      <td>3064952.0</td>\n",
       "      <td>2020-02-01 11:28:00</td>\n",
       "      <td>3064952_20200201_1128</td>\n",
       "      <td>0</td>\n",
       "      <td>3064952</td>\n",
       "      <td>2020-02-01 11:28:00</td>\n",
       "      <td>1</td>\n",
       "    </tr>\n",
       "    <tr>\n",
       "      <th>26</th>\n",
       "      <td>3106976.0</td>\n",
       "      <td>2020-03-27 16:51:00</td>\n",
       "      <td>3106976_20200327_1651</td>\n",
       "      <td>0</td>\n",
       "      <td>3106976</td>\n",
       "      <td>2020-03-27 16:51:00</td>\n",
       "      <td>1</td>\n",
       "    </tr>\n",
       "    <tr>\n",
       "      <th>27</th>\n",
       "      <td>1851383.0</td>\n",
       "      <td>2020-05-09 11:19:00</td>\n",
       "      <td>1851383_20200509_1119</td>\n",
       "      <td>0</td>\n",
       "      <td>1851383</td>\n",
       "      <td>2020-05-09 11:19:00</td>\n",
       "      <td>0</td>\n",
       "    </tr>\n",
       "    <tr>\n",
       "      <th>28</th>\n",
       "      <td>10065620.0</td>\n",
       "      <td>2020-08-10 14:35:00</td>\n",
       "      <td>10065620_20200810_1435</td>\n",
       "      <td>0</td>\n",
       "      <td>10065620</td>\n",
       "      <td>2020-08-10 14:35:00</td>\n",
       "      <td>1</td>\n",
       "    </tr>\n",
       "    <tr>\n",
       "      <th>29</th>\n",
       "      <td>3958530.0</td>\n",
       "      <td>2020-12-29 12:04:00</td>\n",
       "      <td>3958530_20201229_1204</td>\n",
       "      <td>0</td>\n",
       "      <td>3958530</td>\n",
       "      <td>2020-12-29 12:04:00</td>\n",
       "      <td>1</td>\n",
       "    </tr>\n",
       "  </tbody>\n",
       "</table>\n",
       "</div>"
      ],
      "text/plain": [
       "    AlsUnitNo_x         acq_datetime                  ecg_id  STEMI_x  \\\n",
       "0     3474309.0  2020-01-03 12:44:11   3474309_20200103_1244        1   \n",
       "1     4844952.0  2020-01-04 15:44:15   4844952_20200104_1544        1   \n",
       "2     4236762.0  2020-02-18 13:29:43   4236762_20200218_1329        1   \n",
       "3     1874379.0  2020-02-23 20:38:58   1874379_20200223_2038        1   \n",
       "4     4593593.0  2020-02-25 00:36:43   4593593_20200225_0036        1   \n",
       "5     2556166.0  2020-04-22 07:21:53   2556166_20200422_0721        1   \n",
       "6     4454276.0  2020-05-08 22:31:57   4454276_20200508_2231        1   \n",
       "7     3607569.0  2020-05-19 15:29:34   3607569_20200519_1529        1   \n",
       "8     3066059.0  2020-06-18 21:24:30   3066059_20200618_2124        1   \n",
       "9    10087882.0  2020-09-05 21:43:50  10087882_20200905_2143        1   \n",
       "10    2336368.0  2020-09-14 10:29:38   2336368_20200914_1029        1   \n",
       "11    4102009.0  2020-10-05 07:57:24   4102009_20201005_0757        1   \n",
       "12    4563360.0  2020-10-14 09:18:32   4563360_20201014_0918        1   \n",
       "13    4936305.0  2020-10-15 14:33:26   4936305_20201015_1433        1   \n",
       "14    2420643.0  2020-10-16 02:14:58   2420643_20201016_0214        1   \n",
       "15   10133714.0  2020-10-30 13:38:08  10133714_20201030_1338        1   \n",
       "16    4522861.0  2020-11-09 11:17:53   4522861_20201109_1117        1   \n",
       "17    2236970.0  2020-11-25 19:27:49   2236970_20201125_1927        1   \n",
       "18   10159060.0  2020-11-29 04:03:18  10159060_20201129_0403        1   \n",
       "19     535192.0  2020-12-22 17:58:57    535192_20201222_1758        1   \n",
       "20    3236502.0  2020-12-26 21:57:46   3236502_20201226_2157        1   \n",
       "21    4264141.0  2020-01-13 04:07:00   4264141_20200113_0407        0   \n",
       "22    2914490.0  2020-01-20 11:14:00   2914490_20200120_1114        0   \n",
       "23    2174976.0  2020-01-23 03:11:00   2174976_20200123_0311        0   \n",
       "24    3543437.0  2020-01-30 16:36:00   3543437_20200130_1636        0   \n",
       "25    3064952.0  2020-02-01 11:28:00   3064952_20200201_1128        0   \n",
       "26    3106976.0  2020-03-27 16:51:00   3106976_20200327_1651        0   \n",
       "27    1851383.0  2020-05-09 11:19:00   1851383_20200509_1119        0   \n",
       "28   10065620.0  2020-08-10 14:35:00  10065620_20200810_1435        0   \n",
       "29    3958530.0  2020-12-29 12:04:00   3958530_20201229_1204        0   \n",
       "\n",
       "    AlsUnitNo_y         ecg_datetime  STEMI_y  \n",
       "0       3474309  2020-01-03 12:44:00        1  \n",
       "1       4844952  2020-01-04 15:44:00        1  \n",
       "2       4236762  2020-02-18 13:29:00        1  \n",
       "3       1874379  2020-02-23 20:38:00        1  \n",
       "4       4593593  2020-02-25 00:36:00        1  \n",
       "5       2556166  2020-04-22 07:21:00        1  \n",
       "6       4454276  2020-05-08 22:31:00        1  \n",
       "7       3607569  2020-05-19 15:29:00        1  \n",
       "8       3066059  2020-06-18 21:24:00        1  \n",
       "9      10087882  2020-09-05 21:43:00        1  \n",
       "10      2336368  2020-09-14 10:29:00        1  \n",
       "11      4102009  2020-10-05 07:57:00        1  \n",
       "12      4563360  2020-10-14 09:18:00        1  \n",
       "13      4936305  2020-10-15 14:33:00        1  \n",
       "14      2420643  2020-10-16 02:14:00        1  \n",
       "15     10133714  2020-10-30 13:38:00        1  \n",
       "16      4522861  2020-11-09 11:17:00        1  \n",
       "17      2236970  2020-11-25 19:27:00        1  \n",
       "18     10159060  2020-11-29 04:03:00        1  \n",
       "19       535192  2020-12-22 17:58:00        1  \n",
       "20      3236502  2020-12-26 21:57:00        1  \n",
       "21      4264141  2020-01-13 04:07:00        1  \n",
       "22      2914490  2020-01-20 11:14:00        0  \n",
       "23      2174976  2020-01-23 03:11:00        0  \n",
       "24      3543437  2020-01-30 16:36:00        0  \n",
       "25      3064952  2020-02-01 11:28:00        1  \n",
       "26      3106976  2020-03-27 16:51:00        1  \n",
       "27      1851383  2020-05-09 11:19:00        0  \n",
       "28     10065620  2020-08-10 14:35:00        1  \n",
       "29      3958530  2020-12-29 12:04:00        1  "
      ]
     },
     "execution_count": 9,
     "metadata": {},
     "output_type": "execute_result"
    }
   ],
   "source": [
    "dftrop = dftrop[['AlsUnitNo', 'acq_datetime', 'ecg_id', 'STEMI']]\n",
    "dfcp = dfcp[['AlsUnitNo', 'ecg_datetime', 'ecg_id', 'STEMI']]\n",
    "df = pd.merge(dftrop, dfcp, on=['ecg_id'])\n",
    "df"
   ]
  },
  {
   "cell_type": "code",
   "execution_count": 10,
   "id": "41fcccec-4194-451c-b6db-335ba580b7b1",
   "metadata": {},
   "outputs": [
    {
     "data": {
      "text/html": [
       "<div>\n",
       "<style scoped>\n",
       "    .dataframe tbody tr th:only-of-type {\n",
       "        vertical-align: middle;\n",
       "    }\n",
       "\n",
       "    .dataframe tbody tr th {\n",
       "        vertical-align: top;\n",
       "    }\n",
       "\n",
       "    .dataframe thead th {\n",
       "        text-align: right;\n",
       "    }\n",
       "</style>\n",
       "<table border=\"1\" class=\"dataframe\">\n",
       "  <thead>\n",
       "    <tr style=\"text-align: right;\">\n",
       "      <th></th>\n",
       "      <th>AlsUnitNo_x</th>\n",
       "      <th>acq_datetime</th>\n",
       "      <th>ecg_id</th>\n",
       "      <th>STEMI_x</th>\n",
       "      <th>AlsUnitNo_y</th>\n",
       "      <th>ecg_datetime</th>\n",
       "      <th>STEMI_y</th>\n",
       "    </tr>\n",
       "  </thead>\n",
       "  <tbody>\n",
       "    <tr>\n",
       "      <th>0</th>\n",
       "      <td>3474309.0</td>\n",
       "      <td>2020-01-03 12:44:11</td>\n",
       "      <td>3474309_20200103_1244</td>\n",
       "      <td>1</td>\n",
       "      <td>3474309</td>\n",
       "      <td>2020-01-03 12:44:00</td>\n",
       "      <td>1</td>\n",
       "    </tr>\n",
       "    <tr>\n",
       "      <th>1</th>\n",
       "      <td>4844952.0</td>\n",
       "      <td>2020-01-04 15:44:15</td>\n",
       "      <td>4844952_20200104_1544</td>\n",
       "      <td>1</td>\n",
       "      <td>4844952</td>\n",
       "      <td>2020-01-04 15:44:00</td>\n",
       "      <td>1</td>\n",
       "    </tr>\n",
       "  </tbody>\n",
       "</table>\n",
       "</div>"
      ],
      "text/plain": [
       "   AlsUnitNo_x         acq_datetime                 ecg_id  STEMI_x  \\\n",
       "0    3474309.0  2020-01-03 12:44:11  3474309_20200103_1244        1   \n",
       "1    4844952.0  2020-01-04 15:44:15  4844952_20200104_1544        1   \n",
       "\n",
       "   AlsUnitNo_y         ecg_datetime  STEMI_y  \n",
       "0      3474309  2020-01-03 12:44:00        1  \n",
       "1      4844952  2020-01-04 15:44:00        1  "
      ]
     },
     "execution_count": 10,
     "metadata": {},
     "output_type": "execute_result"
    }
   ],
   "source": [
    "df.head(2)"
   ]
  },
  {
   "cell_type": "code",
   "execution_count": 11,
   "id": "e833026b-23fe-4803-b18e-bbae09aa2fe6",
   "metadata": {},
   "outputs": [
    {
     "data": {
      "text/html": [
       "<div>\n",
       "<style scoped>\n",
       "    .dataframe tbody tr th:only-of-type {\n",
       "        vertical-align: middle;\n",
       "    }\n",
       "\n",
       "    .dataframe tbody tr th {\n",
       "        vertical-align: top;\n",
       "    }\n",
       "\n",
       "    .dataframe thead th {\n",
       "        text-align: right;\n",
       "    }\n",
       "</style>\n",
       "<table border=\"1\" class=\"dataframe\">\n",
       "  <thead>\n",
       "    <tr style=\"text-align: right;\">\n",
       "      <th></th>\n",
       "      <th>AlsUnitNo</th>\n",
       "      <th>acq_datetime</th>\n",
       "      <th>ecg_id</th>\n",
       "      <th>STEMI</th>\n",
       "    </tr>\n",
       "  </thead>\n",
       "  <tbody>\n",
       "    <tr>\n",
       "      <th>666</th>\n",
       "      <td>4264141.0</td>\n",
       "      <td>2020-01-13 04:07:00</td>\n",
       "      <td>4264141_20200113_0407</td>\n",
       "      <td>0</td>\n",
       "    </tr>\n",
       "  </tbody>\n",
       "</table>\n",
       "</div>"
      ],
      "text/plain": [
       "     AlsUnitNo         acq_datetime                 ecg_id  STEMI\n",
       "666  4264141.0  2020-01-13 04:07:00  4264141_20200113_0407      0"
      ]
     },
     "execution_count": 11,
     "metadata": {},
     "output_type": "execute_result"
    }
   ],
   "source": [
    "dftrop[dftrop['ecg_id']=='4264141_20200113_0407']"
   ]
  },
  {
   "cell_type": "code",
   "execution_count": 12,
   "id": "e99843b0-9741-45bd-a232-61c76088197a",
   "metadata": {},
   "outputs": [
    {
     "data": {
      "text/html": [
       "<div>\n",
       "<style scoped>\n",
       "    .dataframe tbody tr th:only-of-type {\n",
       "        vertical-align: middle;\n",
       "    }\n",
       "\n",
       "    .dataframe tbody tr th {\n",
       "        vertical-align: top;\n",
       "    }\n",
       "\n",
       "    .dataframe thead th {\n",
       "        text-align: right;\n",
       "    }\n",
       "</style>\n",
       "<table border=\"1\" class=\"dataframe\">\n",
       "  <thead>\n",
       "    <tr style=\"text-align: right;\">\n",
       "      <th></th>\n",
       "      <th>AlsUnitNo</th>\n",
       "      <th>ecg_datetime</th>\n",
       "      <th>ecg_id</th>\n",
       "      <th>trop_STEMI</th>\n",
       "      <th>cp_STEMI</th>\n",
       "    </tr>\n",
       "  </thead>\n",
       "  <tbody>\n",
       "    <tr>\n",
       "      <th>0</th>\n",
       "      <td>3474309.0</td>\n",
       "      <td>2020-01-03 12:44:00</td>\n",
       "      <td>3474309_20200103_1244</td>\n",
       "      <td>1</td>\n",
       "      <td>1</td>\n",
       "    </tr>\n",
       "    <tr>\n",
       "      <th>1</th>\n",
       "      <td>4844952.0</td>\n",
       "      <td>2020-01-04 15:44:00</td>\n",
       "      <td>4844952_20200104_1544</td>\n",
       "      <td>1</td>\n",
       "      <td>1</td>\n",
       "    </tr>\n",
       "    <tr>\n",
       "      <th>2</th>\n",
       "      <td>4236762.0</td>\n",
       "      <td>2020-02-18 13:29:00</td>\n",
       "      <td>4236762_20200218_1329</td>\n",
       "      <td>1</td>\n",
       "      <td>1</td>\n",
       "    </tr>\n",
       "    <tr>\n",
       "      <th>3</th>\n",
       "      <td>1874379.0</td>\n",
       "      <td>2020-02-23 20:38:00</td>\n",
       "      <td>1874379_20200223_2038</td>\n",
       "      <td>1</td>\n",
       "      <td>1</td>\n",
       "    </tr>\n",
       "    <tr>\n",
       "      <th>4</th>\n",
       "      <td>4593593.0</td>\n",
       "      <td>2020-02-25 00:36:00</td>\n",
       "      <td>4593593_20200225_0036</td>\n",
       "      <td>1</td>\n",
       "      <td>1</td>\n",
       "    </tr>\n",
       "  </tbody>\n",
       "</table>\n",
       "</div>"
      ],
      "text/plain": [
       "   AlsUnitNo         ecg_datetime                 ecg_id  trop_STEMI  cp_STEMI\n",
       "0  3474309.0  2020-01-03 12:44:00  3474309_20200103_1244           1         1\n",
       "1  4844952.0  2020-01-04 15:44:00  4844952_20200104_1544           1         1\n",
       "2  4236762.0  2020-02-18 13:29:00  4236762_20200218_1329           1         1\n",
       "3  1874379.0  2020-02-23 20:38:00  1874379_20200223_2038           1         1\n",
       "4  4593593.0  2020-02-25 00:36:00  4593593_20200225_0036           1         1"
      ]
     },
     "execution_count": 12,
     "metadata": {},
     "output_type": "execute_result"
    }
   ],
   "source": [
    "df.columns = ['AlsUnitNo', 'trop_datetime', 'ecg_id', 'trop_STEMI', 'cp_AlsUnitNo', 'ecg_datetime', 'cp_STEMI']\n",
    "df = df[['AlsUnitNo', 'ecg_datetime', 'ecg_id', 'trop_STEMI', 'cp_STEMI']]\n",
    "df.head()"
   ]
  },
  {
   "cell_type": "code",
   "execution_count": 13,
   "id": "8ac06726-7bb2-48ea-8033-8bed2ee83213",
   "metadata": {},
   "outputs": [
    {
     "data": {
      "text/html": [
       "<div>\n",
       "<style scoped>\n",
       "    .dataframe tbody tr th:only-of-type {\n",
       "        vertical-align: middle;\n",
       "    }\n",
       "\n",
       "    .dataframe tbody tr th {\n",
       "        vertical-align: top;\n",
       "    }\n",
       "\n",
       "    .dataframe thead th {\n",
       "        text-align: right;\n",
       "    }\n",
       "</style>\n",
       "<table border=\"1\" class=\"dataframe\">\n",
       "  <thead>\n",
       "    <tr style=\"text-align: right;\">\n",
       "      <th></th>\n",
       "      <th>AlsUnitNo</th>\n",
       "      <th>ecg_datetime</th>\n",
       "      <th>ecg_id</th>\n",
       "      <th>trop_STEMI</th>\n",
       "      <th>cp_STEMI</th>\n",
       "    </tr>\n",
       "  </thead>\n",
       "  <tbody>\n",
       "    <tr>\n",
       "      <th>21</th>\n",
       "      <td>4264141.0</td>\n",
       "      <td>2020-01-13 04:07:00</td>\n",
       "      <td>4264141_20200113_0407</td>\n",
       "      <td>0</td>\n",
       "      <td>1</td>\n",
       "    </tr>\n",
       "    <tr>\n",
       "      <th>25</th>\n",
       "      <td>3064952.0</td>\n",
       "      <td>2020-02-01 11:28:00</td>\n",
       "      <td>3064952_20200201_1128</td>\n",
       "      <td>0</td>\n",
       "      <td>1</td>\n",
       "    </tr>\n",
       "    <tr>\n",
       "      <th>26</th>\n",
       "      <td>3106976.0</td>\n",
       "      <td>2020-03-27 16:51:00</td>\n",
       "      <td>3106976_20200327_1651</td>\n",
       "      <td>0</td>\n",
       "      <td>1</td>\n",
       "    </tr>\n",
       "    <tr>\n",
       "      <th>28</th>\n",
       "      <td>10065620.0</td>\n",
       "      <td>2020-08-10 14:35:00</td>\n",
       "      <td>10065620_20200810_1435</td>\n",
       "      <td>0</td>\n",
       "      <td>1</td>\n",
       "    </tr>\n",
       "    <tr>\n",
       "      <th>29</th>\n",
       "      <td>3958530.0</td>\n",
       "      <td>2020-12-29 12:04:00</td>\n",
       "      <td>3958530_20201229_1204</td>\n",
       "      <td>0</td>\n",
       "      <td>1</td>\n",
       "    </tr>\n",
       "  </tbody>\n",
       "</table>\n",
       "</div>"
      ],
      "text/plain": [
       "     AlsUnitNo         ecg_datetime                  ecg_id  trop_STEMI  \\\n",
       "21   4264141.0  2020-01-13 04:07:00   4264141_20200113_0407           0   \n",
       "25   3064952.0  2020-02-01 11:28:00   3064952_20200201_1128           0   \n",
       "26   3106976.0  2020-03-27 16:51:00   3106976_20200327_1651           0   \n",
       "28  10065620.0  2020-08-10 14:35:00  10065620_20200810_1435           0   \n",
       "29   3958530.0  2020-12-29 12:04:00   3958530_20201229_1204           0   \n",
       "\n",
       "    cp_STEMI  \n",
       "21         1  \n",
       "25         1  \n",
       "26         1  \n",
       "28         1  \n",
       "29         1  "
      ]
     },
     "execution_count": 13,
     "metadata": {},
     "output_type": "execute_result"
    }
   ],
   "source": [
    "df[df['trop_STEMI'] != df['cp_STEMI']]"
   ]
  },
  {
   "cell_type": "code",
   "execution_count": 15,
   "id": "0b83e5d8-6f0a-406e-9e1a-fbd5defce6b5",
   "metadata": {},
   "outputs": [
    {
     "data": {
      "text/html": [
       "<div>\n",
       "<style scoped>\n",
       "    .dataframe tbody tr th:only-of-type {\n",
       "        vertical-align: middle;\n",
       "    }\n",
       "\n",
       "    .dataframe tbody tr th {\n",
       "        vertical-align: top;\n",
       "    }\n",
       "\n",
       "    .dataframe thead th {\n",
       "        text-align: right;\n",
       "    }\n",
       "</style>\n",
       "<table border=\"1\" class=\"dataframe\">\n",
       "  <thead>\n",
       "    <tr style=\"text-align: right;\">\n",
       "      <th></th>\n",
       "      <th>AlsUnitNo</th>\n",
       "      <th>acq_datetime</th>\n",
       "      <th>ecg_id</th>\n",
       "      <th>STEMI</th>\n",
       "    </tr>\n",
       "  </thead>\n",
       "  <tbody>\n",
       "    <tr>\n",
       "      <th>0</th>\n",
       "      <td>366020.0</td>\n",
       "      <td>2020-12-10 14:47:38</td>\n",
       "      <td>366020_20201210_1447</td>\n",
       "      <td>1</td>\n",
       "    </tr>\n",
       "    <tr>\n",
       "      <th>1</th>\n",
       "      <td>535192.0</td>\n",
       "      <td>2020-12-22 17:58:57</td>\n",
       "      <td>535192_20201222_1758</td>\n",
       "      <td>1</td>\n",
       "    </tr>\n",
       "    <tr>\n",
       "      <th>2</th>\n",
       "      <td>706393.0</td>\n",
       "      <td>2020-05-12 09:40:15</td>\n",
       "      <td>706393_20200512_0940</td>\n",
       "      <td>1</td>\n",
       "    </tr>\n",
       "    <tr>\n",
       "      <th>3</th>\n",
       "      <td>963810.0</td>\n",
       "      <td>2020-06-01 12:52:41</td>\n",
       "      <td>963810_20200601_1252</td>\n",
       "      <td>1</td>\n",
       "    </tr>\n",
       "    <tr>\n",
       "      <th>4</th>\n",
       "      <td>1223017.0</td>\n",
       "      <td>2020-01-11 21:51:28</td>\n",
       "      <td>1223017_20200111_2151</td>\n",
       "      <td>1</td>\n",
       "    </tr>\n",
       "  </tbody>\n",
       "</table>\n",
       "</div>"
      ],
      "text/plain": [
       "   AlsUnitNo         acq_datetime                 ecg_id  STEMI\n",
       "0   366020.0  2020-12-10 14:47:38   366020_20201210_1447      1\n",
       "1   535192.0  2020-12-22 17:58:57   535192_20201222_1758      1\n",
       "2   706393.0  2020-05-12 09:40:15   706393_20200512_0940      1\n",
       "3   963810.0  2020-06-01 12:52:41   963810_20200601_1252      1\n",
       "4  1223017.0  2020-01-11 21:51:28  1223017_20200111_2151      1"
      ]
     },
     "execution_count": 15,
     "metadata": {},
     "output_type": "execute_result"
    }
   ],
   "source": [
    "df_2020 = pd.read_csv('/home/ubuntu/dr-you-ecg-20220420_mount/STEMI_JKL/df_2020.csv')\n",
    "#df_stemi = df_2020[df_2020['STEMI']==1]\n",
    "df_2020 = df_2020[['AlsUnitNo', 'acq_datetime', 'ecg_id', 'STEMI']]\n",
    "df_2020.head()"
   ]
  },
  {
   "cell_type": "code",
   "execution_count": 17,
   "id": "d02e42f9-efbe-4e04-be6d-04d0f74c32de",
   "metadata": {},
   "outputs": [
    {
     "data": {
      "text/html": [
       "<div>\n",
       "<style scoped>\n",
       "    .dataframe tbody tr th:only-of-type {\n",
       "        vertical-align: middle;\n",
       "    }\n",
       "\n",
       "    .dataframe tbody tr th {\n",
       "        vertical-align: top;\n",
       "    }\n",
       "\n",
       "    .dataframe thead th {\n",
       "        text-align: right;\n",
       "    }\n",
       "</style>\n",
       "<table border=\"1\" class=\"dataframe\">\n",
       "  <thead>\n",
       "    <tr style=\"text-align: right;\">\n",
       "      <th></th>\n",
       "      <th>AlsUnitNo</th>\n",
       "      <th>acq_datetime</th>\n",
       "      <th>ecg_id</th>\n",
       "      <th>STEMI</th>\n",
       "    </tr>\n",
       "  </thead>\n",
       "  <tbody>\n",
       "  </tbody>\n",
       "</table>\n",
       "</div>"
      ],
      "text/plain": [
       "Empty DataFrame\n",
       "Columns: [AlsUnitNo, acq_datetime, ecg_id, STEMI]\n",
       "Index: []"
      ]
     },
     "execution_count": 17,
     "metadata": {},
     "output_type": "execute_result"
    }
   ],
   "source": [
    "df_2020[df_2020['ecg_id']=='3958530_20201229_1204']\n",
    "# check : trop_stemi 가 맞는 듯.. 아 그러고보니 cp_STEMI는 왜 1로 됐지??? 아 원래 0인데 이번에 새로 1로 추가한건가봄 이상협 쌤이 봐주신거"
   ]
  },
  {
   "cell_type": "code",
   "execution_count": null,
   "id": "074e6958-c792-46dc-b8f7-58d8359a6195",
   "metadata": {},
   "outputs": [],
   "source": [
    "# 따라서 cp_STEMI로 trop_STEMI도 바꾸기! (위에 5개)\n"
   ]
  },
  {
   "cell_type": "code",
   "execution_count": null,
   "id": "d2414e13-f105-4f76-be69-ed2a2f8f8421",
   "metadata": {},
   "outputs": [],
   "source": []
  },
  {
   "cell_type": "code",
   "execution_count": null,
   "id": "05cadd6a-4ecb-417f-9e34-fde6b9b1a2d6",
   "metadata": {},
   "outputs": [],
   "source": []
  },
  {
   "cell_type": "markdown",
   "id": "8ef2c0f1-434a-4d83-98a2-cc86ceb1b272",
   "metadata": {},
   "source": [
    "##### x_dataset\n",
    "- check 500 Hz\n",
    "- ECG lead 12 to 8"
   ]
  },
  {
   "cell_type": "code",
   "execution_count": 26,
   "id": "7e9781d0-ff29-4101-ab5f-6b07b5958d4f",
   "metadata": {},
   "outputs": [],
   "source": [
    "# Series → list\n",
    "x_list = dfcp['ecg_id'].values.tolist()\n",
    "y_list = dfcp['STEMI'].values.tolist()"
   ]
  },
  {
   "cell_type": "code",
   "execution_count": 27,
   "id": "c500e51d-0d56-4ff3-8c74-70b6e18614b2",
   "metadata": {},
   "outputs": [],
   "source": [
    "# List → numpy array\n",
    "x_npy = np.array(x_list)\n",
    "y_npy = np.array(y_list)"
   ]
  },
  {
   "cell_type": "code",
   "execution_count": 28,
   "id": "69fba4e1-24d7-4f53-a649-2b56d7e767cc",
   "metadata": {},
   "outputs": [
    {
     "data": {
      "text/plain": [
       "((136,), (136,))"
      ]
     },
     "execution_count": 28,
     "metadata": {},
     "output_type": "execute_result"
    }
   ],
   "source": [
    "x_npy.shape, y_npy.shape"
   ]
  },
  {
   "cell_type": "code",
   "execution_count": 29,
   "id": "9d2ac0d8-b376-4b42-acf8-e8f02f553133",
   "metadata": {},
   "outputs": [
    {
     "name": "stderr",
     "output_type": "stream",
     "text": [
      "100%|█████████████████████████████████████████| 136/136 [00:11<00:00, 12.20it/s]\n"
     ]
    }
   ],
   "source": [
    "x_ecg = []\n",
    "x_dataset = []\n",
    "numList = []\n",
    "\n",
    "for i in tqdm(x_list):\n",
    "    x_dir = x_folder +'/'+ i+'.csv'\n",
    "    df_x = pd.read_csv(x_dir)\n",
    "    if len(df_x) == 5000 :\n",
    "        df_x_lead = df_x[['I', 'II', 'V1', 'V2', 'V3', 'V4', 'V5', 'V6']]\n",
    "        a = x_list.index(i)\n",
    "        numList.append(a)\n",
    "        df_x_numpy = df_x_lead.to_numpy()\n",
    "        x_dataset.append(df_x_numpy)"
   ]
  },
  {
   "cell_type": "code",
   "execution_count": 30,
   "id": "5d6fe089-2542-48ce-982a-11b68b7f7768",
   "metadata": {},
   "outputs": [
    {
     "data": {
      "text/plain": [
       "(136, 5000, 8)"
      ]
     },
     "execution_count": 30,
     "metadata": {},
     "output_type": "execute_result"
    }
   ],
   "source": [
    "X_dataset = np.array(x_dataset)\n",
    "X_dataset.shape"
   ]
  },
  {
   "cell_type": "code",
   "execution_count": 31,
   "id": "bf51ce28-d048-4d87-b2b3-3f953579a500",
   "metadata": {},
   "outputs": [],
   "source": [
    "# save\n",
    "np.save(my_path+'/x_fcp_0106',X_dataset)"
   ]
  },
  {
   "cell_type": "markdown",
   "id": "fe58e70b-d9eb-4c3e-8e72-0e01ecbc51e1",
   "metadata": {},
   "source": [
    "##### y_dataset"
   ]
  },
  {
   "cell_type": "code",
   "execution_count": 32,
   "id": "05e72659-1ca9-4099-b0ad-251164c3abf1",
   "metadata": {},
   "outputs": [
    {
     "data": {
      "text/plain": [
       "(136,)"
      ]
     },
     "execution_count": 32,
     "metadata": {},
     "output_type": "execute_result"
    }
   ],
   "source": [
    "y_list_final = []\n",
    "\n",
    "for i in numList :\n",
    "    y_list_final.append(y_list[i])\n",
    "    \n",
    "y_npy = np.array(y_list_final)\n",
    "Y_dataset = y_npy\n",
    "Y_dataset.shape"
   ]
  },
  {
   "cell_type": "code",
   "execution_count": 33,
   "id": "b3d882e8-853e-42aa-b47c-4eef3ff04bc4",
   "metadata": {},
   "outputs": [],
   "source": [
    "# save\n",
    "np.save(my_path+'/y_fcp_0106',Y_dataset)"
   ]
  },
  {
   "cell_type": "code",
   "execution_count": null,
   "id": "1fa61264-8062-401d-9571-3eb2e1979dd6",
   "metadata": {},
   "outputs": [],
   "source": []
  },
  {
   "cell_type": "markdown",
   "id": "3783df7e-264c-4a4b-a0d5-70a68ec82a77",
   "metadata": {},
   "source": [
    "##### update label data (not used)"
   ]
  },
  {
   "cell_type": "code",
   "execution_count": 16,
   "id": "ae00b9b2-9021-4e7b-9572-b18ab7b04127",
   "metadata": {},
   "outputs": [],
   "source": [
    "komate_label_final = dftrop.loc[numList]"
   ]
  },
  {
   "cell_type": "code",
   "execution_count": 17,
   "id": "a1bcbf8d-a0a0-4e83-9c17-f3e5c7628b5f",
   "metadata": {},
   "outputs": [
    {
     "data": {
      "text/html": [
       "<div>\n",
       "<style scoped>\n",
       "    .dataframe tbody tr th:only-of-type {\n",
       "        vertical-align: middle;\n",
       "    }\n",
       "\n",
       "    .dataframe tbody tr th {\n",
       "        vertical-align: top;\n",
       "    }\n",
       "\n",
       "    .dataframe thead th {\n",
       "        text-align: right;\n",
       "    }\n",
       "</style>\n",
       "<table border=\"1\" class=\"dataframe\">\n",
       "  <thead>\n",
       "    <tr style=\"text-align: right;\">\n",
       "      <th></th>\n",
       "      <th>AlsUnitNo</th>\n",
       "      <th>chartno</th>\n",
       "      <th>trop_date</th>\n",
       "      <th>acq_datetime</th>\n",
       "      <th>ecg_id</th>\n",
       "      <th>STEMI</th>\n",
       "    </tr>\n",
       "  </thead>\n",
       "  <tbody>\n",
       "    <tr>\n",
       "      <th>0</th>\n",
       "      <td>535192.0</td>\n",
       "      <td>2431894</td>\n",
       "      <td>2020-12-22 18:57:07</td>\n",
       "      <td>2020-12-22 17:58:57</td>\n",
       "      <td>535192_20201222_1758</td>\n",
       "      <td>1</td>\n",
       "    </tr>\n",
       "    <tr>\n",
       "      <th>1</th>\n",
       "      <td>1737853.0</td>\n",
       "      <td>5563072</td>\n",
       "      <td>2020-10-02 00:55:36</td>\n",
       "      <td>2020-10-02 02:00:32</td>\n",
       "      <td>1737853_20201002_0200</td>\n",
       "      <td>1</td>\n",
       "    </tr>\n",
       "    <tr>\n",
       "      <th>2</th>\n",
       "      <td>1845609.0</td>\n",
       "      <td>2841063</td>\n",
       "      <td>2020-02-27 10:20:18</td>\n",
       "      <td>2020-02-27 09:14:13</td>\n",
       "      <td>1845609_20200227_0914</td>\n",
       "      <td>1</td>\n",
       "    </tr>\n",
       "    <tr>\n",
       "      <th>3</th>\n",
       "      <td>1874379.0</td>\n",
       "      <td>5015653</td>\n",
       "      <td>2020-02-23 22:02:00</td>\n",
       "      <td>2020-02-23 20:38:58</td>\n",
       "      <td>1874379_20200223_2038</td>\n",
       "      <td>1</td>\n",
       "    </tr>\n",
       "    <tr>\n",
       "      <th>4</th>\n",
       "      <td>2236970.0</td>\n",
       "      <td>7611872</td>\n",
       "      <td>2020-11-25 20:16:24</td>\n",
       "      <td>2020-11-25 19:27:49</td>\n",
       "      <td>2236970_20201125_1927</td>\n",
       "      <td>1</td>\n",
       "    </tr>\n",
       "    <tr>\n",
       "      <th>...</th>\n",
       "      <td>...</td>\n",
       "      <td>...</td>\n",
       "      <td>...</td>\n",
       "      <td>...</td>\n",
       "      <td>...</td>\n",
       "      <td>...</td>\n",
       "    </tr>\n",
       "    <tr>\n",
       "      <th>8079</th>\n",
       "      <td>3317005.0</td>\n",
       "      <td>5132146</td>\n",
       "      <td>2020-12-31 02:31:45</td>\n",
       "      <td>2020-12-31 01:32:00</td>\n",
       "      <td>3317005_20201231_0132</td>\n",
       "      <td>0</td>\n",
       "    </tr>\n",
       "    <tr>\n",
       "      <th>8080</th>\n",
       "      <td>3482144.0</td>\n",
       "      <td>3363538</td>\n",
       "      <td>2020-12-31 14:46:23</td>\n",
       "      <td>2020-12-31 12:56:00</td>\n",
       "      <td>3482144_20201231_1256</td>\n",
       "      <td>0</td>\n",
       "    </tr>\n",
       "    <tr>\n",
       "      <th>8081</th>\n",
       "      <td>3525668.0</td>\n",
       "      <td>8234264</td>\n",
       "      <td>2020-12-31 06:11:21</td>\n",
       "      <td>2020-12-31 07:58:00</td>\n",
       "      <td>3525668_20201231_0758</td>\n",
       "      <td>0</td>\n",
       "    </tr>\n",
       "    <tr>\n",
       "      <th>8082</th>\n",
       "      <td>3679274.0</td>\n",
       "      <td>8656391</td>\n",
       "      <td>2020-12-31 15:09:02</td>\n",
       "      <td>2020-12-31 08:28:00</td>\n",
       "      <td>3679274_20201231_0828</td>\n",
       "      <td>0</td>\n",
       "    </tr>\n",
       "    <tr>\n",
       "      <th>8083</th>\n",
       "      <td>3715380.0</td>\n",
       "      <td>3294821</td>\n",
       "      <td>2020-12-31 03:34:33</td>\n",
       "      <td>2020-12-31 14:42:00</td>\n",
       "      <td>3715380_20201231_1442</td>\n",
       "      <td>0</td>\n",
       "    </tr>\n",
       "  </tbody>\n",
       "</table>\n",
       "<p>8084 rows × 6 columns</p>\n",
       "</div>"
      ],
      "text/plain": [
       "      AlsUnitNo  chartno            trop_date         acq_datetime  \\\n",
       "0      535192.0  2431894  2020-12-22 18:57:07  2020-12-22 17:58:57   \n",
       "1     1737853.0  5563072  2020-10-02 00:55:36  2020-10-02 02:00:32   \n",
       "2     1845609.0  2841063  2020-02-27 10:20:18  2020-02-27 09:14:13   \n",
       "3     1874379.0  5015653  2020-02-23 22:02:00  2020-02-23 20:38:58   \n",
       "4     2236970.0  7611872  2020-11-25 20:16:24  2020-11-25 19:27:49   \n",
       "...         ...      ...                  ...                  ...   \n",
       "8079  3317005.0  5132146  2020-12-31 02:31:45  2020-12-31 01:32:00   \n",
       "8080  3482144.0  3363538  2020-12-31 14:46:23  2020-12-31 12:56:00   \n",
       "8081  3525668.0  8234264  2020-12-31 06:11:21  2020-12-31 07:58:00   \n",
       "8082  3679274.0  8656391  2020-12-31 15:09:02  2020-12-31 08:28:00   \n",
       "8083  3715380.0  3294821  2020-12-31 03:34:33  2020-12-31 14:42:00   \n",
       "\n",
       "                     ecg_id  STEMI  \n",
       "0      535192_20201222_1758      1  \n",
       "1     1737853_20201002_0200      1  \n",
       "2     1845609_20200227_0914      1  \n",
       "3     1874379_20200223_2038      1  \n",
       "4     2236970_20201125_1927      1  \n",
       "...                     ...    ...  \n",
       "8079  3317005_20201231_0132      0  \n",
       "8080  3482144_20201231_1256      0  \n",
       "8081  3525668_20201231_0758      0  \n",
       "8082  3679274_20201231_0828      0  \n",
       "8083  3715380_20201231_1442      0  \n",
       "\n",
       "[8084 rows x 6 columns]"
      ]
     },
     "execution_count": 17,
     "metadata": {},
     "output_type": "execute_result"
    }
   ],
   "source": [
    "komate_label_final.reset_index(drop=True, inplace=True)\n",
    "komate_label_final"
   ]
  },
  {
   "cell_type": "code",
   "execution_count": 18,
   "id": "a3aa87ae-59b8-4261-9ab5-0f9535b95ed7",
   "metadata": {},
   "outputs": [],
   "source": [
    "# final label table\n",
    "komate_label_final.to_csv(my_dir +\"/df_trop.csv\")"
   ]
  },
  {
   "cell_type": "code",
   "execution_count": 19,
   "id": "645b372b-3bd5-4c1b-8fda-c9fe1b050094",
   "metadata": {},
   "outputs": [
    {
     "name": "stdout",
     "output_type": "stream",
     "text": [
      "<class 'pandas.core.frame.DataFrame'>\n",
      "RangeIndex: 8084 entries, 0 to 8083\n",
      "Data columns (total 6 columns):\n",
      " #   Column        Non-Null Count  Dtype  \n",
      "---  ------        --------------  -----  \n",
      " 0   AlsUnitNo     8084 non-null   float64\n",
      " 1   chartno       8084 non-null   object \n",
      " 2   trop_date     8084 non-null   object \n",
      " 3   acq_datetime  8084 non-null   object \n",
      " 4   ecg_id        8084 non-null   object \n",
      " 5   STEMI         8084 non-null   int64  \n",
      "dtypes: float64(1), int64(1), object(4)\n",
      "memory usage: 379.1+ KB\n"
     ]
    }
   ],
   "source": [
    "komate_label_final.info()"
   ]
  },
  {
   "cell_type": "code",
   "execution_count": 20,
   "id": "6f383511-2779-4a5e-b5bc-1864db42967e",
   "metadata": {},
   "outputs": [
    {
     "data": {
      "text/plain": [
       "AlsUnitNo       4701\n",
       "chartno         4666\n",
       "trop_date       8084\n",
       "acq_datetime    8016\n",
       "ecg_id          8084\n",
       "STEMI              2\n",
       "dtype: int64"
      ]
     },
     "execution_count": 20,
     "metadata": {},
     "output_type": "execute_result"
    }
   ],
   "source": [
    "komate_label_final.nunique()"
   ]
  },
  {
   "cell_type": "code",
   "execution_count": 21,
   "id": "3285daa4-62c1-44cd-aaa5-367a1a03c2fa",
   "metadata": {},
   "outputs": [
    {
     "data": {
      "text/plain": [
       "AlsUnitNo       16\n",
       "chartno         16\n",
       "trop_date       16\n",
       "acq_datetime    16\n",
       "ecg_id          16\n",
       "STEMI            1\n",
       "dtype: int64"
      ]
     },
     "execution_count": 21,
     "metadata": {},
     "output_type": "execute_result"
    }
   ],
   "source": [
    "stemi = komate_label_final[komate_label_final['STEMI']==1]\n",
    "stemi.nunique()"
   ]
  }
 ],
 "metadata": {
  "kernelspec": {
   "display_name": "Python 3 (ipykernel)",
   "language": "python",
   "name": "python3"
  },
  "language_info": {
   "codemirror_mode": {
    "name": "ipython",
    "version": 3
   },
   "file_extension": ".py",
   "mimetype": "text/x-python",
   "name": "python",
   "nbconvert_exporter": "python",
   "pygments_lexer": "ipython3",
   "version": "3.8.12"
  }
 },
 "nbformat": 4,
 "nbformat_minor": 5
}
