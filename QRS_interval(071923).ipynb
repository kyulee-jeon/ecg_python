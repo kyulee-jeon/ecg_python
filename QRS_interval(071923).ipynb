{
 "cells": [
  {
   "cell_type": "markdown",
   "metadata": {},
   "source": [
    "The ECG criteria for a left bundle branch block include:\n",
    "\n",
    "- QRS duration greater than 120 milliseconds\n",
    "- Absence of Q wave in leads I, V5 and V6\n",
    "- Monomorphic R wave in I, V5 and V6\n",
    "- ST and T wave displacement opposite to the major deflection of the QRS complex"
   ]
  },
  {
   "cell_type": "code",
   "execution_count": null,
   "metadata": {},
   "outputs": [],
   "source": [
    "import numpy as np\n",
    "import matplotlib.pyplot as plt\n",
    "from scipy.signal import find_peaks"
   ]
  },
  {
   "cell_type": "code",
   "execution_count": null,
   "metadata": {},
   "outputs": [],
   "source": [
    "# clinical set\n",
    "df_clnc = pd.read_csv('/home/ubuntu/dr-you-ecg-20220420_mount/STEMI_JKL/2023_Jan_testset/230620_clinicaltest(2020).csv')\n",
    "print(df_clnc.shape)\n",
    "df_clnc.head()"
   ]
  },
  {
   "cell_type": "code",
   "execution_count": null,
   "metadata": {},
   "outputs": [],
   "source": [
    "dir_clnc = '/home/ubuntu/dr-you-ecg-20220420_mount/STEMI_JKL/2023_Jan_testset/'\n",
    "X_clnc = np.load(dir_clnc + 'x_clinical_0525.npy')\n",
    "X_clnc.shape"
   ]
  },
  {
   "cell_type": "code",
   "execution_count": null,
   "metadata": {},
   "outputs": [],
   "source": [
    "# lead 1\n",
    "X_clnc.shape"
   ]
  },
  {
   "cell_type": "code",
   "execution_count": null,
   "metadata": {},
   "outputs": [],
   "source": [
    "ecg1 = X_clnc[0]\n",
    "ecg1.shape"
   ]
  },
  {
   "cell_type": "code",
   "execution_count": null,
   "metadata": {},
   "outputs": [],
   "source": [
    "lead1_data = ecg1[:, 0]  # Extract the first lead's data\n",
    "lead1_data.shape"
   ]
  },
  {
   "cell_type": "code",
   "execution_count": null,
   "metadata": {},
   "outputs": [],
   "source": [
    "'''\n",
    "Loads an ECG signal with frequency Fs and detects QRS peaks\n",
    "Author:  Hooman Sedghamiz, Jan, 2019\n",
    "%% ============== Licensce ========================================== %%\n",
    "If you use these modules in any other project, please refer to MIT open-source license.\n",
    "    MIT License\n",
    "    Copyright (c) 2019 Hooman Sedghamiz\n",
    "    Permission is hereby granted, free of charge, to any person obtaining a copy\n",
    "    of this software and associated documentation files (the \"Software\"), to deal\n",
    "    in the Software without restriction, including without limitation the rights\n",
    "    to use, copy, modify, merge, publish, distribute, sublicense, and/or sell\n",
    "    copies of the Software, and to permit persons to whom the Software is\n",
    "    furnished to do so, subject to the following conditions:\n",
    "    The above copyright notice and this permission notice shall be included in all\n",
    "    copies or substantial portions of the Software.\n",
    "% THIS SOFTWARE IS PROVIDED BY THE COPYRIGHT HOLDERS AND CONTRIBUTORS \n",
    "% \"AS IS\" AND ANY EXPRESS OR IMPLIED WARRANTIES, INCLUDING, BUT NOT \n",
    "% LIMITED TO, THE IMPLIED WARRANTIES OF MERCHANTABILITY AND FITNESS \n",
    "% FOR A PARTICULAR PURPOSE ARE DISCLAIMED. IN NO EVENT SHALL THE COPYRIGHT\n",
    "% OWNER OR CONTRIBUTORS BE LIABLE FOR ANY DIRECT, INDIRECT, INCIDENTAL, \n",
    "% SPECIAL, EXEMPLARY, OR CONSEQUENTIAL DAMAGES (INCLUDING, BUT NOT LIMITED\n",
    "% TO, PROCUREMENT OF SUBSTITUTE GOODS OR SERVICES; LOSS OF USE, DATA, OR \n",
    "% PROFITS; OR BUSINESS INTERRUPTION) HOWEVER CAUSED AND ON ANY THEORY OF \n",
    "% LIABILITY, WHETHER IN CONTRACT, STRICT LIABILITY, OR TORT (INCLUDING \n",
    "% NEGLIGENCE OR OTHERWISE) ARISING IN ANY WAY OUT OF THE USE OF THIS \n",
    "% SOFTWARE, EVEN IF ADVISED OF THE POSSIBILITY OF SUCH DAMAGE.\n",
    "'''\n",
    "#-------------- Python 3.7 ------------------#\n",
    "# Lets import loadmat required to import .mat files\n",
    "from scipy.io import loadmat\n",
    "# Of course we also need signal from Scipy too\n",
    "from scipy import signal\n",
    "# Importing numpy to make it possible to perform vector operations\n",
    "import numpy as np\n",
    "# These two libraries are for visualization\n",
    "import matplotlib.pyplot as plt\n",
    "from pandas import Series\n",
    "\n",
    "\n",
    "def BandPassECG(ECG,Fs):\n",
    "    '''\n",
    "    This function takes in a \"path\" and imports the ECG signal in .mat format\n",
    "    '''\n",
    "    Fs = 500\n",
    "    # Implementing the Butterworth BP filter\n",
    "    W1     = 5*2/Fs                                    # --> 5 Hz cutt-off (high-pass) and Normalize by Sample Rate\n",
    "    W2     = 15*2/Fs                                   # --> 15 Hz cutt-off (low-pass) and Normalize by Sample Rate\n",
    "    b, a   = signal.butter(4, [W1,W2], 'bandpass')     # --> create b,a coefficients , since this is IIR we need both b and a coefficients\n",
    "    ECG    = np.asarray(ECG)                           # --> let's convert the ECG to a numpy array, this makes it possible to perform vector operations \n",
    "    ECG    = np.squeeze(ECG)                           # --> squeeze\n",
    "    ECG_BP = signal.filtfilt(b,a,ECG)    # --> filtering: note we use a filtfilt that compensates for the delay\n",
    "    return ECG_BP,ECG\n",
    "\n",
    "def Differentiate(ECG):\n",
    "    '''\n",
    "    Compute single difference of the signal ECG\n",
    "    '''\n",
    "    ECG_df  = np.diff(ECG)\n",
    "    ECG_sq  = np.power(ECG_df,2)\n",
    "    return np.insert(ECG_sq,0, ECG_sq[0])\n",
    "\n",
    "def MovingAverage(ECG,N=30):\n",
    "    '''\n",
    "    Compute moving average of signal ECG with a rectangular window of N\n",
    "    '''\n",
    "    window  = np.ones((1,N))/N\n",
    "    ECG_ma  = np.convolve(np.squeeze(ECG),np.squeeze(window))\n",
    "    return ECG_ma\n",
    "\n",
    "def QRSpeaks(ECG,Fs):\n",
    "    '''\n",
    "    Finds peaks in a smoothed signal ECG and sampling freq Fs.\n",
    "    '''\n",
    "    peaks, _  = signal.find_peaks(ECG, height=np.mean(ECG), distance=round(Fs*0.200))\n",
    "    return peaks"
   ]
  },
  {
   "cell_type": "code",
   "execution_count": null,
   "metadata": {},
   "outputs": [],
   "source": [
    "# Load and BP the Signal\n",
    "Fs =500\n",
    "ECG = lead1_data\n",
    "\n",
    "# BP Filter\n",
    "ECG_BP,ECG_raw = BandPassECG(ECG,Fs)\n",
    "\n",
    "# Difference Filter\n",
    "ECG_df = Differentiate(ECG_BP)\n",
    "\n",
    "# Moving Average\n",
    "ECG_ma = MovingAverage(ECG_df)\n",
    "\n",
    "# QRS peaks\n",
    "QRS = QRSpeaks(ECG_ma,Fs)\n",
    "\n",
    "# Plots\n",
    "fig = plt.figure(frameon=\"False\") \n",
    "plt.plot(np.arange(ECG_raw.shape[0])/Fs,ECG_raw,color='y',label='ECG')\n",
    "plt.vlines(x=(QRS-15)/Fs,ymin=np.min(ECG_raw),ymax=np.max(ECG_raw),linestyles='dashed',color='r', label='QRS',linewidth=2.0)\n",
    "plt.ylabel('Amp'); plt.xlabel('Time[S]'); plt.legend()\n",
    "plt.tight_layout(); plt.show()\n",
    "plt.rcParams[\"figure.figsize\"] = (40, 8)\n",
    "#fig.savefig('QRS_pks.png', transparent=True)"
   ]
  },
  {
   "cell_type": "code",
   "execution_count": null,
   "metadata": {},
   "outputs": [],
   "source": [
    "fig = plt.figure(frameon=\"False\") \n",
    "#plt.plot(np.arange(ECG_raw.shape[0])/Fs,ECG_raw,color='y',label='ECG')\n",
    "plt.vlines(x=(QRS-15)/Fs,ymin=np.min(ECG_raw),ymax=np.max(ECG_raw),linestyles='dashed',color='r', label='QRS',linewidth=2.0)\n",
    "plt.ylabel('Amp'); plt.xlabel('Time[S]'); plt.legend()\n",
    "plt.tight_layout(); plt.show()"
   ]
  },
  {
   "cell_type": "code",
   "execution_count": null,
   "metadata": {},
   "outputs": [],
   "source": [
    "# 그냥 R peak 임"
   ]
  },
  {
   "cell_type": "code",
   "execution_count": null,
   "metadata": {},
   "outputs": [],
   "source": [
    "# Q, S 찾고싶은거임"
   ]
  },
  {
   "cell_type": "code",
   "execution_count": null,
   "metadata": {},
   "outputs": [],
   "source": [
    "import neurokit2 as nk\n",
    "\n",
    "# Preprocess ECG signal\n",
    "signals, info = nk.ecg_process(lead1_data, sampling_rate=500)\n",
    "\n",
    "# Visualize\n",
    "nk.ecg_plot(signals)"
   ]
  },
  {
   "cell_type": "code",
   "execution_count": null,
   "metadata": {},
   "outputs": [],
   "source": [
    "signals"
   ]
  },
  {
   "cell_type": "markdown",
   "metadata": {},
   "source": [
    "Locate P, Q, S and T waves in ECG\n",
    "-  https://neuropsychology.github.io/NeuroKit/examples/ecg_delineate/ecg_delineate.html"
   ]
  },
  {
   "cell_type": "code",
   "execution_count": null,
   "metadata": {},
   "outputs": [],
   "source": [
    "# Load NeuroKit and other useful packages\n",
    "import neurokit2 as nk\n",
    "import numpy as np\n",
    "import pandas as pd\n",
    "import matplotlib.pyplot as plt"
   ]
  },
  {
   "cell_type": "code",
   "execution_count": null,
   "metadata": {},
   "outputs": [],
   "source": [
    "ecg_signal = lead1_data"
   ]
  },
  {
   "cell_type": "code",
   "execution_count": null,
   "metadata": {},
   "outputs": [],
   "source": [
    "# Extract R-peaks locations\n",
    "_, rpeaks = nk.ecg_peaks(ecg_signal, sampling_rate=500)"
   ]
  },
  {
   "cell_type": "code",
   "execution_count": null,
   "metadata": {},
   "outputs": [],
   "source": [
    "# Visualize R-peaks in ECG signal\n",
    "plot = nk.events_plot(rpeaks['ECG_R_Peaks'], ecg_signal)\n",
    "plt.rcParams[\"figure.figsize\"] = (30, 6)"
   ]
  },
  {
   "cell_type": "code",
   "execution_count": null,
   "metadata": {},
   "outputs": [],
   "source": [
    "rpeaks"
   ]
  },
  {
   "cell_type": "code",
   "execution_count": null,
   "metadata": {},
   "outputs": [],
   "source": [
    "# Zooming into the first 5 R-peaks\n",
    "plot = nk.events_plot(rpeaks['ECG_R_Peaks'][:5], ecg_signal[:1800])"
   ]
  },
  {
   "cell_type": "code",
   "execution_count": null,
   "metadata": {},
   "outputs": [],
   "source": [
    "# Delineate the ECG signal\n",
    "_, waves_peak = nk.ecg_delineate(ecg_signal, rpeaks, sampling_rate=500, method=\"peak\")"
   ]
  },
  {
   "cell_type": "code",
   "execution_count": null,
   "metadata": {},
   "outputs": [],
   "source": [
    "waves_peak.keys()"
   ]
  },
  {
   "cell_type": "code",
   "execution_count": null,
   "metadata": {},
   "outputs": [],
   "source": [
    "# Zooming into the first 3 R-peaks, with focus on T_peaks, P-peaks, Q-peaks and S-peaks\n",
    "plot = nk.events_plot([waves_peak['ECG_T_Peaks'][:3], \n",
    "                       waves_peak['ECG_P_Peaks'][:3],\n",
    "                       waves_peak['ECG_Q_Peaks'][:3],\n",
    "                       waves_peak['ECG_S_Peaks'][:3]], ecg_signal[:1000])"
   ]
  },
  {
   "cell_type": "code",
   "execution_count": null,
   "metadata": {},
   "outputs": [],
   "source": [
    "# 안타깝게도 QRS onset, offset이 아닌 Q peak, S peak를 찍는다 ㅠㅠ "
   ]
  },
  {
   "cell_type": "code",
   "execution_count": null,
   "metadata": {},
   "outputs": [],
   "source": [
    "# Delineate the ECG signal and visualizing all peaks of ECG complexes\n",
    "_, waves_peak = nk.ecg_delineate(ecg_signal, \n",
    "                                 rpeaks, \n",
    "                                 sampling_rate=500, \n",
    "                                 method=\"peak\", \n",
    "                                 show=True, \n",
    "                                 show_type='peaks')"
   ]
  },
  {
   "cell_type": "code",
   "execution_count": null,
   "metadata": {},
   "outputs": [],
   "source": [
    "# Delineate the ECG signal\n",
    "signal_cwt, waves_cwt = nk.ecg_delineate(ecg_signal, \n",
    "                                         rpeaks, \n",
    "                                         sampling_rate=500, \n",
    "                                         method=\"cwt\", \n",
    "                                         show=True, \n",
    "                                         show_type='all')"
   ]
  },
  {
   "cell_type": "code",
   "execution_count": null,
   "metadata": {},
   "outputs": [],
   "source": [
    "# ECG_R_Onsets ~ ECG_R_Offsets\n",
    "signal_cwt, waves_cwt = nk.ecg_delineate(ecg_signal, \n",
    "                                         rpeaks, \n",
    "                                         sampling_rate=500, \n",
    "                                         method=\"cwt\", \n",
    "                                         show=True, \n",
    "                                         show_type='bounds_R')"
   ]
  },
  {
   "cell_type": "code",
   "execution_count": null,
   "metadata": {},
   "outputs": [],
   "source": [
    "signal_cwt"
   ]
  },
  {
   "cell_type": "code",
   "execution_count": null,
   "metadata": {},
   "outputs": [],
   "source": [
    "# 단위 조심 (5000 > 10000ms : *2) \n",
    "on = waves_cwt['ECG_R_Onsets']\n",
    "off = waves_cwt['ECG_R_Offsets']\n",
    "print(len(on), len(off))"
   ]
  },
  {
   "cell_type": "code",
   "execution_count": null,
   "metadata": {},
   "outputs": [],
   "source": [
    "for i in range(len(ls)):\n",
    "    a = off[i]-on[i]\n",
    "    print(a*2)\n",
    "\n",
    "# 단위 확인: milisecond"
   ]
  },
  {
   "cell_type": "code",
   "execution_count": null,
   "metadata": {},
   "outputs": [],
   "source": [
    "b = []\n",
    "for i in range(len(ls)):\n",
    "    a = off[i]-on[i]\n",
    "    b.append(a*2)\n",
    "\n",
    "# 단위 확인: milisecond"
   ]
  },
  {
   "cell_type": "code",
   "execution_count": null,
   "metadata": {},
   "outputs": [],
   "source": [
    "b"
   ]
  },
  {
   "cell_type": "code",
   "execution_count": null,
   "metadata": {},
   "outputs": [],
   "source": [
    "average_qrs_interval = np.mean(b)\n",
    "print(average_qrs_interval)"
   ]
  },
  {
   "cell_type": "code",
   "execution_count": null,
   "metadata": {},
   "outputs": [],
   "source": [
    "def checing_figure(idx):\n",
    "    print(idx)\n",
    "    ecg = X_clnc[idx][:,0]\n",
    "    _, rpeaks = nk.ecg_peaks(ecg, sampling_rate=500)\n",
    "    signal_cwt, waves_cwt = nk.ecg_delineate(ecg, \n",
    "                                             rpeaks, \n",
    "                                             sampling_rate=500, \n",
    "                                             method=\"cwt\",  \n",
    "                                             show = True,\n",
    "                                             show_type='bounds_R')\n",
    "    on = waves_cwt['ECG_R_Onsets']\n",
    "    off = waves_cwt['ECG_R_Offsets']\n",
    "\n",
    "    print(on)\n",
    "    print(off)\n",
    "\n",
    "    plot = nk.events_plot(rpeaks['ECG_R_Peaks'], aa)\n",
    "    plt.rcParams[\"figure.figsize\"] = (30, 6)"
   ]
  }
 ],
 "metadata": {
  "language_info": {
   "name": "python"
  },
  "orig_nbformat": 4
 },
 "nbformat": 4,
 "nbformat_minor": 2
}
